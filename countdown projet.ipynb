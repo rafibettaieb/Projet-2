{
 "cells": [
  {
   "cell_type": "code",
   "execution_count": null,
   "id": "f27161a1",
   "metadata": {},
   "outputs": [],
   "source": [
    "#COUNTDOWN PROGRAMME\n",
    "import turtle\n",
    "import time\n",
    "import datetime\n",
    "from IPython.display import Audio\n",
    "#BACKGROUND\n",
    "bg = turtle.Screen()\n",
    "bg.title(\"countdown\")\n",
    "bg.setup(width=710,height=444)\n",
    "bg.bgpic('python black.gif')\n",
    "countdown = turtle.Turtle()\n",
    "countdown.color(\"white\")\n",
    "countdown.hideturtle()\n",
    "countdown.up()\n",
    "countdown.setpos(-150,150)\n",
    "countdown.write(\"countdown\",font=(\"Times\",50,\"normal\"))\n",
    "\n",
    "#COUNTDOWN PROGRAMME + SOUND + WRITE\n",
    "def countdown(t):\n",
    "    sound = 'finalsoundprojet.mp3'\n",
    "    pen = turtle.Turtle()\n",
    "    pen.color(\"white\")\n",
    "    pen.hideturtle()\n",
    "    pen.up()\n",
    "    pen.setpos(-350,-150)\n",
    "    pen2 = turtle.Turtle()\n",
    "    pen2.color(\"red\")\n",
    "    pen2.hideturtle()\n",
    "    pen2.up()\n",
    "    pen2.setpos(-100,-200) \n",
    "    while t >=0 :\n",
    "        minute,second = divmod(t,60)\n",
    "        heure,minute = divmod(minute,60)\n",
    "        timer =  '{:02d}:{:02d}:{:02d}       '.format(heure,minute,second)\n",
    "        pen.write(timer ,move = True ,font=(\"Times\",9,\"normal\"))\n",
    "        time.sleep(1)\n",
    "        t -=1\n",
    "        now = datetime.datetime.now()\n",
    "        time.sleep(0)\n",
    "        print (now.strftime(\"%H:%M:%S\"))\n",
    "    pen2.write(\"Fire in the hole\",font=(\"Times\",25,\"normal\"))\n",
    "    return Audio(sound,autoplay = True)\n",
    "t = input(\"enter the time:\")\n",
    "t = int(t)\n",
    "countdown(t)\n"
   ]
  },
  {
   "cell_type": "code",
   "execution_count": null,
   "id": "dadf91e1",
   "metadata": {},
   "outputs": [],
   "source": [
    "# BUTTON PROGRAMME\n",
    "import turtle\n",
    "but = turtle.Turtle()\n",
    "but.hideturtle()\n",
    "for i in range (2):\n",
    "    but.forward(80)\n",
    "    but.left(90)\n",
    "    but.forward(30)\n",
    "    but.left(90)\n",
    "but.penup()\n",
    "but.goto(7,6)\n",
    "but.write(\"Texte\",font=(\"Arial\",10,\"normal\"))\n",
    "def butclick (x,y):\n",
    "    a = input(\"enter a text\")\n",
    "    if 0<x<81 and 0<y<30 :\n",
    "        print(a)\n",
    "turtle.onscreenclick(butclick,1)\n",
    "turtle.listen()\n",
    "turtle.done()"
   ]
  }
 ],
 "metadata": {
  "kernelspec": {
   "display_name": "Python 3",
   "language": "python",
   "name": "python3"
  },
  "language_info": {
   "codemirror_mode": {
    "name": "ipython",
    "version": 3
   },
   "file_extension": ".py",
   "mimetype": "text/x-python",
   "name": "python",
   "nbconvert_exporter": "python",
   "pygments_lexer": "ipython3",
   "version": "3.8.8"
  }
 },
 "nbformat": 4,
 "nbformat_minor": 5
}
